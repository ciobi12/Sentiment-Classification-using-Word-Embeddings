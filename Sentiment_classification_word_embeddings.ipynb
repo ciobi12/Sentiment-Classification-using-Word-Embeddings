{
 "cells": [
  {
   "cell_type": "code",
   "execution_count": 1,
   "id": "7a3fcd5b",
   "metadata": {},
   "outputs": [],
   "source": [
    "# library imports\n",
    "\n",
    "import pandas as pd\n",
    "import numpy as np\n",
    "import tensorflow as tf\n",
    "from tensorflow.keras.preprocessing.text import Tokenizer\n",
    "from tensorflow.keras.preprocessing.sequence import pad_sequences\n",
    "from tensorflow.keras.layers import Dense, Embedding, LSTM, GRU, Bidirectional, Input, SpatialDropout1D\n",
    "import datetime\n",
    "import sklearn\n",
    "from sklearn.model_selection import train_test_split\n",
    "import matplotlib.pyplot as plt\n",
    "# from tensorflow.keras.layers.embeddings import Embedding\n"
   ]
  },
  {
   "cell_type": "code",
   "execution_count": 2,
   "id": "460c297f",
   "metadata": {},
   "outputs": [
    {
     "data": {
      "text/html": [
       "<div>\n",
       "<style scoped>\n",
       "    .dataframe tbody tr th:only-of-type {\n",
       "        vertical-align: middle;\n",
       "    }\n",
       "\n",
       "    .dataframe tbody tr th {\n",
       "        vertical-align: top;\n",
       "    }\n",
       "\n",
       "    .dataframe thead th {\n",
       "        text-align: right;\n",
       "    }\n",
       "</style>\n",
       "<table border=\"1\" class=\"dataframe\">\n",
       "  <thead>\n",
       "    <tr style=\"text-align: right;\">\n",
       "      <th></th>\n",
       "      <th>review</th>\n",
       "      <th>sentiment</th>\n",
       "    </tr>\n",
       "  </thead>\n",
       "  <tbody>\n",
       "    <tr>\n",
       "      <th>0</th>\n",
       "      <td>I went and saw this movie last night after bei...</td>\n",
       "      <td>1</td>\n",
       "    </tr>\n",
       "    <tr>\n",
       "      <th>1</th>\n",
       "      <td>Actor turned director Bill Paxton follows up h...</td>\n",
       "      <td>1</td>\n",
       "    </tr>\n",
       "    <tr>\n",
       "      <th>2</th>\n",
       "      <td>As a recreational golfer with some knowledge o...</td>\n",
       "      <td>1</td>\n",
       "    </tr>\n",
       "    <tr>\n",
       "      <th>3</th>\n",
       "      <td>I saw this film in a sneak preview, and it is ...</td>\n",
       "      <td>1</td>\n",
       "    </tr>\n",
       "    <tr>\n",
       "      <th>4</th>\n",
       "      <td>Bill Paxton has taken the true story of the 19...</td>\n",
       "      <td>1</td>\n",
       "    </tr>\n",
       "    <tr>\n",
       "      <th>5</th>\n",
       "      <td>I saw this film on September 1st, 2005 in Indi...</td>\n",
       "      <td>1</td>\n",
       "    </tr>\n",
       "    <tr>\n",
       "      <th>6</th>\n",
       "      <td>Maybe I'm reading into this too much, but I wo...</td>\n",
       "      <td>1</td>\n",
       "    </tr>\n",
       "    <tr>\n",
       "      <th>7</th>\n",
       "      <td>I felt this film did have many good qualities....</td>\n",
       "      <td>1</td>\n",
       "    </tr>\n",
       "    <tr>\n",
       "      <th>8</th>\n",
       "      <td>This movie is amazing because the fact that th...</td>\n",
       "      <td>1</td>\n",
       "    </tr>\n",
       "    <tr>\n",
       "      <th>9</th>\n",
       "      <td>\"Quitting\" may be as much about exiting a pre-...</td>\n",
       "      <td>1</td>\n",
       "    </tr>\n",
       "  </tbody>\n",
       "</table>\n",
       "</div>"
      ],
      "text/plain": [
       "                                              review  sentiment\n",
       "0  I went and saw this movie last night after bei...          1\n",
       "1  Actor turned director Bill Paxton follows up h...          1\n",
       "2  As a recreational golfer with some knowledge o...          1\n",
       "3  I saw this film in a sneak preview, and it is ...          1\n",
       "4  Bill Paxton has taken the true story of the 19...          1\n",
       "5  I saw this film on September 1st, 2005 in Indi...          1\n",
       "6  Maybe I'm reading into this too much, but I wo...          1\n",
       "7  I felt this film did have many good qualities....          1\n",
       "8  This movie is amazing because the fact that th...          1\n",
       "9  \"Quitting\" may be as much about exiting a pre-...          1"
      ]
     },
     "execution_count": 2,
     "metadata": {},
     "output_type": "execute_result"
    }
   ],
   "source": [
    "# reading the dataset\n",
    "\n",
    "df = pd.read_csv('movie_data.csv')\n",
    "df.head(10)"
   ]
  },
  {
   "cell_type": "code",
   "execution_count": 3,
   "id": "2f761293",
   "metadata": {},
   "outputs": [
    {
     "name": "stdout",
     "output_type": "stream",
     "text": [
      "(40000,)\n",
      "(5000,)\n"
     ]
    }
   ],
   "source": [
    "# Splitting the dataset: 80% for the training dataset, 10% for the validating dataset, 10% for the testing dataset\n",
    "\n",
    "X = df.loc[:44999, 'review'].values\n",
    "y = df.loc[:44999, 'sentiment'].values\n",
    "# X_test = df.loc[45000:, 'review'].values\n",
    "# y_test = df.loc[45000:,'sentiment'].values\n",
    "# X_val = df.loc[40000:44999, 'review'].values\n",
    "# y_val = df.loc[40000:44999, 'sentiment'].values\n",
    "X_train, X_val, y_train, y_val = train_test_split(X,y, test_size = 0.1111, random_state = 50)\n",
    "# X_train = X_train[:20000,]\n",
    "# y_train = y_train[:20000,]\n",
    "# X_val = X_val[:2500,]\n",
    "# y_val = y_val[:2500,]\n",
    "print(X_train.shape)\n",
    "print(X_val.shape)"
   ]
  },
  {
   "cell_type": "code",
   "execution_count": 4,
   "id": "523c12e7",
   "metadata": {},
   "outputs": [
    {
     "name": "stdout",
     "output_type": "stream",
     "text": [
      "Actual max length:  2470\n",
      "Vocabulary size:  118334\n"
     ]
    }
   ],
   "source": [
    "tokenizer_obj = Tokenizer()\n",
    "total_reviews = np.concatenate((X_train, X_val), axis = 0)\n",
    "tokenizer_obj.fit_on_texts(total_reviews) \n",
    "\n",
    "# zero-padding the sequences so that all the vectors in the dataset have the same length. \n",
    "# Normally, this parameter should be equal to the length of the longest review, but due to\n",
    "# the lack of necessary computational power I set this parameter to a lower value.  \n",
    "\n",
    "max_length = 100\n",
    "real_max_length = max([len(s.split()) for s in total_reviews])\n",
    "\n",
    "# define vocabulary size\n",
    "vocab_size = len(tokenizer_obj.word_index) + 1\n",
    "\n",
    "X_train_tokens =  tokenizer_obj.texts_to_sequences(X_train)\n",
    "X_val_tokens = tokenizer_obj.texts_to_sequences(X_val)\n",
    "\n",
    "x_train = pad_sequences(X_train_tokens, maxlen=max_length, padding='post')\n",
    "x_val = pad_sequences(X_val_tokens, maxlen=max_length, padding='post')\n",
    "\n",
    "\n",
    "print('Actual max length: ', real_max_length)\n",
    "print('Vocabulary size: ', vocab_size)"
   ]
  },
  {
   "cell_type": "code",
   "execution_count": 5,
   "id": "734cbb7d",
   "metadata": {},
   "outputs": [],
   "source": [
    "# Now let's build our model following the proposed architecture: Embedding layer -> recurrent layer -> Dense layer \n",
    "\n",
    "def get_model():\n",
    "    model = tf.keras.models.Sequential()\n",
    "    model.add(Embedding(vocab_size, 100, input_length=max_length))\n",
    "    model.add(SpatialDropout1D(0.4))\n",
    "    model.add(GRU(units=64,  dropout=0.2, recurrent_dropout=0.2))\n",
    "    model.add(Dense(1, activation='sigmoid'))\n",
    "    \n",
    "    # model = tf.keras.Model(inputs=first_layer, outputs=third_layer)\n",
    "    model.compile(loss='binary_crossentropy', optimizer=tf.keras.optimizers.Adam(), metrics=['accuracy'])\n",
    "    \n",
    "    model.summary()\n",
    "    return model\n"
   ]
  },
  {
   "cell_type": "code",
   "execution_count": 6,
   "id": "6b3d9fba",
   "metadata": {},
   "outputs": [],
   "source": [
    "def get_callbacks():\n",
    "    early_stopping = tf.keras.callbacks.EarlyStopping(monitor='val_loss', min_delta=1e-4, patience= 2, mode='min', restore_best_weights=True)\n",
    "#     log_dir = \"log/log\" + datetime.datetime.now().strftime(\"%Y%m%d-%H%M%S\")\n",
    "#     tensorboard_callback = tf.keras.callbacks.TensorBoard(log_dir=log_dir)\n",
    "    return early_stopping"
   ]
  },
  {
   "cell_type": "code",
   "execution_count": 7,
   "id": "93548fcf",
   "metadata": {
    "scrolled": false
   },
   "outputs": [
    {
     "name": "stderr",
     "output_type": "stream",
     "text": [
      "2021-09-22 22:18:09.709114: I tensorflow/stream_executor/platform/default/dso_loader.cc:44] Successfully opened dynamic library libcuda.so.1\n",
      "2021-09-22 22:18:09.785092: I tensorflow/core/common_runtime/gpu/gpu_device.cc:1561] Found device 0 with properties: \n",
      "pciBusID: 0000:03:00.0 name: Quadro M4000 computeCapability: 5.2\n",
      "coreClock: 0.7725GHz coreCount: 13 deviceMemorySize: 7.94GiB deviceMemoryBandwidth: 179.11GiB/s\n",
      "2021-09-22 22:18:09.785639: I tensorflow/stream_executor/platform/default/dso_loader.cc:44] Successfully opened dynamic library libcudart.so.10.1\n",
      "2021-09-22 22:18:09.789216: I tensorflow/stream_executor/platform/default/dso_loader.cc:44] Successfully opened dynamic library libcublas.so.10\n",
      "2021-09-22 22:18:09.791993: I tensorflow/stream_executor/platform/default/dso_loader.cc:44] Successfully opened dynamic library libcufft.so.10\n",
      "2021-09-22 22:18:09.792495: I tensorflow/stream_executor/platform/default/dso_loader.cc:44] Successfully opened dynamic library libcurand.so.10\n",
      "2021-09-22 22:18:09.794348: I tensorflow/stream_executor/platform/default/dso_loader.cc:44] Successfully opened dynamic library libcusolver.so.10\n",
      "2021-09-22 22:18:09.795287: I tensorflow/stream_executor/platform/default/dso_loader.cc:44] Successfully opened dynamic library libcusparse.so.10\n",
      "2021-09-22 22:18:09.798883: I tensorflow/stream_executor/platform/default/dso_loader.cc:44] Successfully opened dynamic library libcudnn.so.7\n",
      "2021-09-22 22:18:09.799934: I tensorflow/core/common_runtime/gpu/gpu_device.cc:1703] Adding visible gpu devices: 0\n",
      "2021-09-22 22:18:09.800650: I tensorflow/core/platform/cpu_feature_guard.cc:143] Your CPU supports instructions that this TensorFlow binary was not compiled to use: AVX2 FMA\n",
      "2021-09-22 22:18:09.807127: I tensorflow/core/platform/profile_utils/cpu_utils.cc:102] CPU Frequency: 3192640000 Hz\n",
      "2021-09-22 22:18:09.808251: I tensorflow/compiler/xla/service/service.cc:168] XLA service 0x7f42a4000b60 initialized for platform Host (this does not guarantee that XLA will be used). Devices:\n",
      "2021-09-22 22:18:09.808289: I tensorflow/compiler/xla/service/service.cc:176]   StreamExecutor device (0): Host, Default Version\n",
      "2021-09-22 22:18:09.874920: I tensorflow/compiler/xla/service/service.cc:168] XLA service 0x4173d00 initialized for platform CUDA (this does not guarantee that XLA will be used). Devices:\n",
      "2021-09-22 22:18:09.874962: I tensorflow/compiler/xla/service/service.cc:176]   StreamExecutor device (0): Quadro M4000, Compute Capability 5.2\n",
      "2021-09-22 22:18:09.876569: I tensorflow/core/common_runtime/gpu/gpu_device.cc:1561] Found device 0 with properties: \n",
      "pciBusID: 0000:03:00.0 name: Quadro M4000 computeCapability: 5.2\n",
      "coreClock: 0.7725GHz coreCount: 13 deviceMemorySize: 7.94GiB deviceMemoryBandwidth: 179.11GiB/s\n",
      "2021-09-22 22:18:09.876714: I tensorflow/stream_executor/platform/default/dso_loader.cc:44] Successfully opened dynamic library libcudart.so.10.1\n",
      "2021-09-22 22:18:09.876792: I tensorflow/stream_executor/platform/default/dso_loader.cc:44] Successfully opened dynamic library libcublas.so.10\n",
      "2021-09-22 22:18:09.876865: I tensorflow/stream_executor/platform/default/dso_loader.cc:44] Successfully opened dynamic library libcufft.so.10\n",
      "2021-09-22 22:18:09.876937: I tensorflow/stream_executor/platform/default/dso_loader.cc:44] Successfully opened dynamic library libcurand.so.10\n",
      "2021-09-22 22:18:09.877011: I tensorflow/stream_executor/platform/default/dso_loader.cc:44] Successfully opened dynamic library libcusolver.so.10\n",
      "2021-09-22 22:18:09.877083: I tensorflow/stream_executor/platform/default/dso_loader.cc:44] Successfully opened dynamic library libcusparse.so.10\n",
      "2021-09-22 22:18:09.877167: I tensorflow/stream_executor/platform/default/dso_loader.cc:44] Successfully opened dynamic library libcudnn.so.7\n",
      "2021-09-22 22:18:09.880559: I tensorflow/core/common_runtime/gpu/gpu_device.cc:1703] Adding visible gpu devices: 0\n",
      "2021-09-22 22:18:09.880690: I tensorflow/stream_executor/platform/default/dso_loader.cc:44] Successfully opened dynamic library libcudart.so.10.1\n",
      "2021-09-22 22:18:09.881890: I tensorflow/core/common_runtime/gpu/gpu_device.cc:1102] Device interconnect StreamExecutor with strength 1 edge matrix:\n",
      "2021-09-22 22:18:09.881908: I tensorflow/core/common_runtime/gpu/gpu_device.cc:1108]      0 \n",
      "2021-09-22 22:18:09.881917: I tensorflow/core/common_runtime/gpu/gpu_device.cc:1121] 0:   N \n",
      "2021-09-22 22:18:09.883334: I tensorflow/core/common_runtime/gpu/gpu_device.cc:1247] Created TensorFlow device (/job:localhost/replica:0/task:0/device:GPU:0 with 7248 MB memory) -> physical GPU (device: 0, name: Quadro M4000, pci bus id: 0000:03:00.0, compute capability: 5.2)\n"
     ]
    },
    {
     "name": "stdout",
     "output_type": "stream",
     "text": [
      "WARNING:tensorflow:Layer gru will not use cuDNN kernel since it doesn't meet the cuDNN kernel criteria. It will use generic GPU kernel as fallback when running on GPU\n",
      "Model: \"sequential\"\n",
      "_________________________________________________________________\n",
      "Layer (type)                 Output Shape              Param #   \n",
      "=================================================================\n",
      "embedding (Embedding)        (None, 100, 100)          11833400  \n",
      "_________________________________________________________________\n",
      "spatial_dropout1d (SpatialDr (None, 100, 100)          0         \n",
      "_________________________________________________________________\n",
      "gru (GRU)                    (None, 64)                31872     \n",
      "_________________________________________________________________\n",
      "dense (Dense)                (None, 1)                 65        \n",
      "=================================================================\n",
      "Total params: 11,865,337\n",
      "Trainable params: 11,865,337\n",
      "Non-trainable params: 0\n",
      "_________________________________________________________________\n",
      "Epoch 1/20\n"
     ]
    },
    {
     "name": "stderr",
     "output_type": "stream",
     "text": [
      "2021-09-22 22:18:13.037237: I tensorflow/stream_executor/platform/default/dso_loader.cc:44] Successfully opened dynamic library libcublas.so.10\n"
     ]
    },
    {
     "name": "stdout",
     "output_type": "stream",
     "text": [
      "157/157 [==============================] - 46s 291ms/step - loss: 0.5158 - accuracy: 0.7257 - val_loss: 0.3268 - val_accuracy: 0.8596\n",
      "Epoch 2/20\n",
      "157/157 [==============================] - 45s 290ms/step - loss: 0.2734 - accuracy: 0.8887 - val_loss: 0.3065 - val_accuracy: 0.8696\n",
      "Epoch 3/20\n",
      "157/157 [==============================] - 45s 289ms/step - loss: 0.1898 - accuracy: 0.9296 - val_loss: 0.3851 - val_accuracy: 0.8574\n",
      "Epoch 4/20\n",
      "157/157 [==============================] - 45s 286ms/step - loss: 0.1372 - accuracy: 0.9510 - val_loss: 0.3825 - val_accuracy: 0.8578\n"
     ]
    }
   ],
   "source": [
    "model = get_model()\n",
    "history = model.fit(x_train, y_train, batch_size=256, epochs=20, callbacks=get_callbacks(),\n",
    "          validation_data=(x_val, y_val))"
   ]
  },
  {
   "cell_type": "code",
   "execution_count": 8,
   "id": "765968c9",
   "metadata": {},
   "outputs": [
    {
     "name": "stdout",
     "output_type": "stream",
     "text": [
      "dict_keys(['loss', 'accuracy', 'val_loss', 'val_accuracy'])\n"
     ]
    },
    {
     "data": {
      "image/png": "[encoded data removed]",
      "text/plain": [
       "<Figure size 432x288 with 1 Axes>"
      ]
     },
     "metadata": {
      "needs_background": "light"
     },
     "output_type": "display_data"
    },
    {
     "data": {
      "image/png": "[encoded data removed]",
      "text/plain": [
       "<Figure size 432x288 with 1 Axes>"
      ]
     },
     "metadata": {
      "needs_background": "light"
     },
     "output_type": "display_data"
    }
   ],
   "source": [
    "# history = model.fit(X, Y, validation_split=0.33, epochs=150, batch_size=10, verbose=0)\n",
    "# list all data in history\n",
    "print(history.history.keys())\n",
    "# summarize history for accuracy\n",
    "plt.plot(history.history['accuracy'])\n",
    "plt.plot(history.history['val_accuracy'])\n",
    "plt.title('model accuracy')\n",
    "plt.ylabel('accuracy')\n",
    "plt.xlabel('epoch')\n",
    "plt.legend(['train', 'test'], loc='upper left')\n",
    "plt.show()\n",
    "# summarize history for loss\n",
    "plt.plot(history.history['loss'])\n",
    "plt.plot(history.history['val_loss'])\n",
    "plt.title('model loss')\n",
    "plt.ylabel('loss')\n",
    "plt.xlabel('epoch')\n",
    "plt.legend(['train', 'test'], loc='upper left')\n",
    "plt.show()"
   ]
  },
  {
   "cell_type": "code",
   "execution_count": 9,
   "id": "cd7bc7f1",
   "metadata": {},
   "outputs": [
    {
     "name": "stdout",
     "output_type": "stream",
     "text": [
      "Testing...\n",
      "40/40 [==============================] - 1s 23ms/step - loss: 0.3891 - accuracy: 0.8214\n",
      "Test score: 0.3891104459762573\n",
      "Test accuracy: 0.821399986743927\n",
      "Accuracy: 82.14%\n"
     ]
    }
   ],
   "source": [
    "# Results are pretty good for a simple network. \n",
    "\n",
    "print('Testing...')\n",
    "x_test = df.loc[45000:, 'review'].values\n",
    "y_test = df.loc[45000:, 'sentiment'].values\n",
    "x_test = tokenizer_obj.texts_to_sequences(x_test)\n",
    "x_test = pad_sequences(x_test, maxlen=max_length, padding='post')\n",
    "score, acc = model.evaluate(x_test, y_test, batch_size=128)\n",
    "\n",
    "print('Test score:', score)\n",
    "print('Test accuracy:', acc)\n",
    "\n",
    "print(\"Accuracy: {0:.2%}\".format(acc))"
   ]
  },
  {
   "cell_type": "markdown",
   "id": "d763973c",
   "metadata": {},
   "source": [
    "Not bad for a simple network which also features overfit. "
   ]
  },
  {
   "cell_type": "code",
   "execution_count": 10,
   "id": "f745609a",
   "metadata": {},
   "outputs": [
    {
     "name": "stdout",
     "output_type": "stream",
     "text": [
      "WARNING:tensorflow:Model was constructed with shape (None, 100) for input Tensor(\"embedding_input:0\", shape=(None, 100), dtype=float32), but it was called on an input with incompatible shape (None, 20).\n"
     ]
    },
    {
     "data": {
      "text/plain": [
       "array([[0.8516024 ],\n",
       "       [0.5754619 ],\n",
       "       [0.4489088 ],\n",
       "       [0.6807832 ],\n",
       "       [0.13996276],\n",
       "       [0.10306962],\n",
       "       [0.11184629]], dtype=float32)"
      ]
     },
     "execution_count": 10,
     "metadata": {},
     "output_type": "execute_result"
    }
   ],
   "source": [
    "#Let's test the network using some simple reviews \n",
    "\n",
    "test_sample_1 = \"This movie is fantastic! I really like it because it is so good!\"\n",
    "test_sample_2 = \"Good movie!\"\n",
    "test_sample_3 = \"Maybe I like this movie.\"\n",
    "test_sample_4 = \"if you like action, then this movie might be good for you.\"\n",
    "test_sample_5 = \"Not to my taste, will skip and watch another movie\"\n",
    "test_sample_6 = \"Terrible movie!\"\n",
    "test_sample_7 = \"This movie really sucks! Can I get my money back please?\"\n",
    "test_samples = [test_sample_1, test_sample_2, test_sample_3, test_sample_4, test_sample_5, test_sample_6, test_sample_7]\n",
    "\n",
    "test_samples_tokens = tokenizer_obj.texts_to_sequences(test_samples)\n",
    "test_samples_tokens_pad = pad_sequences(test_samples_tokens, maxlen=20)\n",
    "\n",
    "#predict\n",
    "model.predict(x=test_samples_tokens_pad)\n"
   ]
  },
  {
   "cell_type": "code",
   "execution_count": 13,
   "id": "0fbe8e6b",
   "metadata": {},
   "outputs": [
    {
     "name": "stdout",
     "output_type": "stream",
     "text": [
      "WARNING:tensorflow:Layer lstm_2 will not use cuDNN kernel since it doesn't meet the cuDNN kernel criteria. It will use generic GPU kernel as fallback when running on GPU\n",
      "WARNING:tensorflow:Layer lstm_2 will not use cuDNN kernel since it doesn't meet the cuDNN kernel criteria. It will use generic GPU kernel as fallback when running on GPU\n",
      "WARNING:tensorflow:Layer lstm_2 will not use cuDNN kernel since it doesn't meet the cuDNN kernel criteria. It will use generic GPU kernel as fallback when running on GPU\n",
      "WARNING:tensorflow:Layer lstm_3 will not use cuDNN kernel since it doesn't meet the cuDNN kernel criteria. It will use generic GPU kernel as fallback when running on GPU\n",
      "WARNING:tensorflow:Layer lstm_3 will not use cuDNN kernel since it doesn't meet the cuDNN kernel criteria. It will use generic GPU kernel as fallback when running on GPU\n",
      "WARNING:tensorflow:Layer lstm_3 will not use cuDNN kernel since it doesn't meet the cuDNN kernel criteria. It will use generic GPU kernel as fallback when running on GPU\n",
      "Model: \"sequential_2\"\n",
      "_________________________________________________________________\n",
      "Layer (type)                 Output Shape              Param #   \n",
      "=================================================================\n",
      "embedding_2 (Embedding)      (None, 100, 100)          11833400  \n",
      "_________________________________________________________________\n",
      "spatial_dropout1d_1 (Spatial (None, 100, 100)          0         \n",
      "_________________________________________________________________\n",
      "bidirectional_2 (Bidirection (None, 100, 128)          84480     \n",
      "_________________________________________________________________\n",
      "bidirectional_3 (Bidirection (None, 128)               98816     \n",
      "_________________________________________________________________\n",
      "dense_2 (Dense)              (None, 1)                 129       \n",
      "=================================================================\n",
      "Total params: 12,016,825\n",
      "Trainable params: 12,016,825\n",
      "Non-trainable params: 0\n",
      "_________________________________________________________________\n"
     ]
    }
   ],
   "source": [
    "# Let's try a different approach, using a different architecture: Embedding Layer -> 2 Bidirectional LSTM Layers ->\n",
    "# Dense layer\n",
    "\n",
    "\n",
    "# We'll use the same embedding dimension for each integer\n",
    "model_2 = tf.keras.models.Sequential()\n",
    "model_2.add(Embedding(vocab_size, 100, input_length = max_length))\n",
    "model_2.add(SpatialDropout1D(0.4))\n",
    "# Add 2 bidirectional LSTMs with dropout to prevent overfitting\n",
    "model_2.add(Bidirectional(LSTM(64, dropout=0.2, recurrent_dropout=0.2, return_sequences=True)))\n",
    "model_2.add(Bidirectional(LSTM(64, dropout=0.2, recurrent_dropout=0.2)))\n",
    "#\n",
    "model_2.add(Dense(1, activation=\"sigmoid\"))\n",
    "# model_2 = tf.keras.Model(inputs, outputs)\n",
    "model_2.summary()"
   ]
  },
  {
   "cell_type": "code",
   "execution_count": 14,
   "id": "25700b4d",
   "metadata": {},
   "outputs": [
    {
     "name": "stdout",
     "output_type": "stream",
     "text": [
      "Epoch 1/20\n",
      "157/157 [==============================] - 157s 1s/step - loss: 0.4284 - accuracy: 0.7874 - val_loss: 0.3058 - val_accuracy: 0.8700\n",
      "Epoch 2/20\n",
      "157/157 [==============================] - 155s 986ms/step - loss: 0.2368 - accuracy: 0.9067 - val_loss: 0.3174 - val_accuracy: 0.8656\n",
      "Epoch 3/20\n",
      "157/157 [==============================] - 156s 996ms/step - loss: 0.1536 - accuracy: 0.9425 - val_loss: 0.3539 - val_accuracy: 0.8654\n"
     ]
    }
   ],
   "source": [
    "model_2.compile(loss='binary_crossentropy', optimizer=tf.keras.optimizers.Adam(), metrics=['accuracy'])\n",
    "history_2 = model_2.fit(x_train, y_train, batch_size=256, epochs=20, callbacks=get_callbacks(),\n",
    "          validation_data=(x_val, y_val))"
   ]
  },
  {
   "cell_type": "code",
   "execution_count": 16,
   "id": "53270d6a",
   "metadata": {},
   "outputs": [
    {
     "name": "stdout",
     "output_type": "stream",
     "text": [
      "40/40 [==============================] - 3s 83ms/step - loss: 0.3585 - accuracy: 0.8444\n",
      "Test score: 0.3585328161716461\n",
      "Test accuracy: 0.8443999886512756\n",
      "Accuracy: 84.44%\n",
      "WARNING:tensorflow:Model was constructed with shape (None, 100) for input Tensor(\"embedding_2_input:0\", shape=(None, 100), dtype=float32), but it was called on an input with incompatible shape (None, 20).\n"
     ]
    },
    {
     "data": {
      "text/plain": [
       "array([[0.8943997 ],\n",
       "       [0.44844666],\n",
       "       [0.31360254],\n",
       "       [0.5546446 ],\n",
       "       [0.15966246],\n",
       "       [0.11573896],\n",
       "       [0.08985393]], dtype=float32)"
      ]
     },
     "execution_count": 16,
     "metadata": {},
     "output_type": "execute_result"
    }
   ],
   "source": [
    "#Let's test the network using the same reviews \n",
    "score, acc = model_2.evaluate(x_test, y_test, batch_size=128)\n",
    "\n",
    "print('Test score:', score)\n",
    "print('Test accuracy:', acc)\n",
    "\n",
    "print(\"Accuracy: {0:.2%}\".format(acc))\n",
    "model_2.predict(x=test_samples_tokens_pad)\n"
   ]
  },
  {
   "cell_type": "markdown",
   "id": "bfb1d924",
   "metadata": {},
   "source": [
    "The performances of the two networks are similar."
   ]
  }
 ],
 "metadata": {
  "kernelspec": {
   "display_name": "Python 3 (ipykernel)",
   "language": "python",
   "name": "python3"
  },
  "language_info": {
   "codemirror_mode": {
    "name": "ipython",
    "version": 3
   },
   "file_extension": ".py",
   "mimetype": "text/x-python",
   "name": "python",
   "nbconvert_exporter": "python",
   "pygments_lexer": "ipython3",
   "version": "3.8.10"
  }
 },
 "nbformat": 4,
 "nbformat_minor": 5
}
